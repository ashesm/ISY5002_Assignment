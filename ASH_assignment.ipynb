{
  "nbformat": 4,
  "nbformat_minor": 0,
  "metadata": {
    "colab": {
      "name": "ASH_assignment.ipynb",
      "provenance": [],
      "collapsed_sections": [],
      "authorship_tag": "ABX9TyNqXrlP86kFMlfi4A0wVN3E",
      "include_colab_link": true
    },
    "kernelspec": {
      "name": "python3",
      "display_name": "Python 3"
    },
    "language_info": {
      "name": "python"
    }
  },
  "cells": [
    {
      "cell_type": "markdown",
      "metadata": {
        "id": "view-in-github",
        "colab_type": "text"
      },
      "source": [
        "<a href=\"https://colab.research.google.com/github/ashesm/ISY5002_Assignment/blob/main/ASH_assignment.ipynb\" target=\"_parent\"><img src=\"https://colab.research.google.com/assets/colab-badge.svg\" alt=\"Open In Colab\"/></a>"
      ]
    },
    {
      "cell_type": "markdown",
      "metadata": {
        "id": "7OrqTzsNkkXp"
      },
      "source": [
        "## ISY5002\n",
        "\n",
        "\n",
        "## Ashkan Esmaili Dahesht "
      ]
    },
    {
      "cell_type": "markdown",
      "metadata": {
        "id": "R0cXstX2DdIm"
      },
      "source": [
        "### ISY5002-Assignment\n",
        "Write a notebook that prompts the user for a company's stock market ticker symbol. Your program then\n",
        "scrapes the Yahoo Finance website to extract information on the key Executive of the company. Then for each\n",
        "executive calculate the expected income tax based on the ATO tax tables. The user can choose if the data\n",
        "will be saved as a CSV and/or stored in an SQLite database. \n",
        "\n",
        "\n"
      ]
    },
    {
      "cell_type": "markdown",
      "metadata": {
        "id": "gI47IExRX9zs"
      },
      "source": [
        "# Problem Solving Methodology\n",
        "\n",
        "In this Assignment Im going to show How I have brocken down the problem and apply the 5 steps of problem solving in modifying and solving the problem. The process of problem solving I will use can be broken down into 5 key steps:\n",
        "1. State the problem clearly\n",
        "2. Describe the input and output information\n",
        "3. Work the problem by hand\n",
        "4. Develop an algorithm (and convert to python) \n",
        "5. Test solution with a variety of data"
      ]
    },
    {
      "cell_type": "markdown",
      "metadata": {
        "id": "XAFIhDdZkTjU"
      },
      "source": [
        "#State the problem clearly and Input and Output information\n",
        "The words that Im not familiar with and need more clarification are \"promps\", \"ticker symbol\"? and also since in the assignment's specification its not clearly specified to select an Australian company or any company that need to be clarified.\n",
        "\n",
        "Ticker Symbol: \n",
        "\n",
        "* A stock symbol is a unique series of letters assigned to a security for trading purposes.\n",
        "\n",
        "* Investors and traders use the symbol to place trade orders.\n",
        "\n",
        "https://www.investopedia.com/terms/s/stocksymbol.asp\n",
        "\n",
        "To prompt the user I guess i will need to use the input() function\n",
        "\n",
        "Micheal clarified that its alright to choose any company.\n",
        "\n",
        "** Note: Since im using ATO table to calculate the income tax im gonna  search for an Australian company **\n",
        "\n",
        "\n",
        "By understanding the problem I realized that I have scrape the yahoo finance website and find the Key Executive and once I extract them I need to calculate the income tax based on ATO table. So the Input, Output and the process requirements are as followed: \n",
        "\n",
        "# Input\n",
        "* Ticker symbol\n",
        "\n",
        "* Prompt which is gonna be the input function\n",
        "\n",
        "# Process\n",
        "* Scraping yahoo finance website\n",
        "\n",
        "https://au.finance.yahoo.com/\n",
        "\n",
        "* Extract the Key Executive\n",
        "\n",
        "\n",
        "* Calculate the income tax\n",
        "\n",
        "[Resident tax rates 2021–22\n",
        "Taxable income](https://www.ato.gov.au/rates/individual-income-tax-rates/)\n",
        "\n",
        "Income            | Tax on this income \n",
        "------------------|----------------------\n",
        "0 – \\$18,200       | Nil\n",
        "\\$18,201 – \\$45,000 | 19 cents for each \\$1 over \\$18,200\n",
        "\\$45,001 – \\$120,000 | \\$5,092 plus 32.5 cents for each \\$1 over \\$45,000\n",
        "\\$120,001 – \\$180,000 |  \\$29,467 plus 37 cents for each \\$1 over \\$120,000\n",
        "\\$180,001 and over | \\$51,667 plus 45 cents for each \\$1 over \\$180,000\n",
        "\n",
        "# Output\n",
        "\n",
        "   * Save to CSV files\n",
        "   * Save to SQL database\n"
      ]
    },
    {
      "cell_type": "markdown",
      "metadata": {
        "id": "wUOY4qj70SHM"
      },
      "source": [
        "# Search the Website\n",
        "By exploring the website and searching a ticker symbol the key Executive information apears to be in the \"Profile Page\".\n",
        "\n",
        "these are the two companies the I searched with their URL below:\n",
        "\n",
        "Coles : ticker symbol is \"COL.AX\"\n",
        "\n",
        "https://au.finance.yahoo.com/quote/COL.AX/profile?p=COL.AX\n",
        "\n",
        "National Australian Bank : ticker symbol is \"NAB.AX\"\n",
        "\n",
        "https://au.finance.yahoo.com/quote/NAB.AX/profile?p=NAB.AX\n",
        "\n",
        "Note : \"AX\" means Australian\n",
        "\n",
        "Thats the table for the Key Executive:\n",
        "\n",
        "```\n",
        "Mr. Ross Maxwell McEwan CBE, B.B.S.    Group CEO, MD & Director    2.54M    N/A    1957\n",
        "Mr. Gary Andrew Lennon BEC, F.C.A., BEc (Hons), FCA    Group Chief Financial Officer    1.13M    N/A    N/A\n",
        "Mr. Patrick F. Wright    Group Exec. of Technology & Enterprise Operations    1.72M    N/A    1967\n",
        "Ms. Sharon J. Cook    Group Exec. of Legal & Commercial Services    912.98k    N/A    N/A\n",
        "Ms. Susan Ferrier    Group Exec. of People & Culture    929.27k    N/A    N/A\n",
        "Ms. Angela Mentis B.Bus    Group Chief Digital, Data & Analytics Officer    1.62M    N/A    N/A\n",
        "Mr. Shaun Dooley    Chief Risk Officer    1.05M    N/A    N/A\n",
        "Mr. Andrew Irvine    Chief Exec. of Bus. Private Banking Division    333.27k    N/A    N/A\n",
        "Mr. Lesile D. Matheson    Group Chief Operating Officer    N/A    N/A    1960\n",
        "Ms. Sally Mihell    Head of Investor Relations    N/A    N/A    N/A\n",
        "```\n",
        "\n",
        "This table consists of five columns but as was discussed with Micheal Only 3 column will be needed in income tax calculation. which are :\n",
        "\n",
        " * Name\n",
        " * title\n",
        " * Pay\n",
        "\n",
        "By looking at the 3rd column I realised that the Pay column consists of 3 types of pays, the pay amount is followed by either \"M\", \" K\" or N/A.\n",
        "\n",
        "So I assume the \"M\" means a million(1000000) and \"K\" means a thousand(1000)\n",
        "\n",
        "An Example of this:\n",
        "\n",
        "2.54M = 2.54 * 1000000\n",
        "\n",
        "912.98K = 912.98 * 1000\n",
        "\n",
        "N/A\n"
      ]
    },
    {
      "cell_type": "markdown",
      "metadata": {
        "id": "GEZfP6eq8OmL"
      },
      "source": [
        "# Calculate the incom tax\n",
        "Here is the function from the previous note book:\n",
        "\n",
        "```\n",
        "def calculate_tax(income):\n",
        "  if income <= 18200:\n",
        "    tax_payable = 0\n",
        "  elif 18200 < income <= 45000:\n",
        "    tax_payable = 0.19 * (income - 18200)\n",
        "  elif 45000 < income < 120000:\n",
        "    tax_payable = 5092 + 0.32 * (income - 45000)\n",
        "  elif 120001 < income < 180000:\n",
        "    tax_payable = 29467 + 0.37 * (income - 120000)\n",
        "  elif income > 180000:\n",
        "    tax_payable = 51667 + 0.45 * (income - 180000)\n",
        "\n",
        "\n",
        "  return tax_payable\n",
        "  ```\n",
        "  Im gonna use this function since im sure its gonna work."
      ]
    },
    {
      "cell_type": "markdown",
      "metadata": {
        "id": "zPZGHV9W-K_M"
      },
      "source": [
        ""
      ]
    },
    {
      "cell_type": "markdown",
      "metadata": {
        "id": "t_RJySxh9zMc"
      },
      "source": [
        "# Initial Algorithm\n",
        "\n",
        "1. User input ticker symbol\n",
        "2. Use ticker to get profile page\n",
        "3. Copied the table\n",
        "4. For each row of the table\n",
        "* Process a row to extract pay\n",
        "* Find the last charecter to detemine multiplier\n",
        "* Calculate salary, pay * multiplier\n",
        "* Calculate the income tax\n",
        "\n",
        "Note:\n",
        "1. Need to validate the ticker, but for now i will assume the user type in a correct ticker\n",
        "2. Still need to work out where I save the income tax to"
      ]
    },
    {
      "cell_type": "code",
      "metadata": {
        "colab": {
          "base_uri": "https://localhost:8080/"
        },
        "id": "OsXBuCC2fGvw",
        "outputId": "d1a594cb-1bd4-4451-fb93-cb1ed3fe5a34"
      },
      "source": [
        "#  User input ticker symbol\n",
        "ticker_symbol =input(\"Please input ticker symbol \")\n",
        "print(ticker_symbol)"
      ],
      "execution_count": 4,
      "outputs": [
        {
          "output_type": "stream",
          "name": "stdout",
          "text": [
            "Please input ticker symbol nab.ax\n",
            "nab.ax\n"
          ]
        }
      ]
    },
    {
      "cell_type": "code",
      "metadata": {
        "colab": {
          "base_uri": "https://localhost:8080/",
          "height": 36
        },
        "id": "731JE6dAfgHG",
        "outputId": "447e4499-d9e9-42b1-a332-72a73f59d626"
      },
      "source": [
        "# Use ticker to get profile page\n",
        " \n",
        "example_url = 'https://au.finance.yahoo.com/quote/{}/profile?p={}'\n",
        "example_url.format(ticker_symbol , ticker_symbol)"
      ],
      "execution_count": 5,
      "outputs": [
        {
          "output_type": "execute_result",
          "data": {
            "application/vnd.google.colaboratory.intrinsic+json": {
              "type": "string"
            },
            "text/plain": [
              "'https://au.finance.yahoo.com/quote/nab.ax/profile?p=nab.ax'"
            ]
          },
          "metadata": {},
          "execution_count": 5
        }
      ]
    },
    {
      "cell_type": "markdown",
      "metadata": {
        "id": "cIGsldd1A-17"
      },
      "source": [
        "# How to Use ticker to get profile page\n",
        "I googled How to insert a variable into a string in python? and used this source :\n",
        "\n",
        " https://matthew-brett.github.io/teaching/string_formatting.html\n",
        "\n",
        "firstly I put curly brackets on the ticker symbols as a space holder in the URL then I used the \"format\" function and tested with different vriables to undersand how it work.\n",
        "\n",
        " example_url = 'https://au.finance.yahoo.com/quote/COL.AX/profile?p=COL.AX'\n",
        "\n",
        "https://au.finance.yahoo.com/quote/{}/profile?p={}\n",
        "\n",
        "then I tried the \"ticker_symbol\".\n",
        "\n",
        "and once I realised and tested that its working I start to create a function  As follow:"
      ]
    },
    {
      "cell_type": "code",
      "metadata": {
        "id": "bCMX40hHhEk6"
      },
      "source": [
        "#Create a function to build URL\n",
        "def build_url():\n",
        "# User input ticker symbol\n",
        "  ticker_symbol =input(\"Please input ticker symbol \")\n",
        "  # print(ticker_symbol)\n",
        "  # No need to print the symbol\n",
        "  example_url = 'https://au.finance.yahoo.com/quote/{}/profile?p={}'\n",
        "  result = example_url.format(ticker_symbol , ticker_symbol)\n",
        "  return result"
      ],
      "execution_count": 6,
      "outputs": []
    },
    {
      "cell_type": "code",
      "metadata": {
        "colab": {
          "base_uri": "https://localhost:8080/"
        },
        "id": "Ruoe0gKPju4w",
        "outputId": "db08e891-7e4a-4265-c83d-15b50a8f6dcb"
      },
      "source": [
        "# The above function wont do anything so I did this:\n",
        "url = build_url()\n",
        "print(url)"
      ],
      "execution_count": 7,
      "outputs": [
        {
          "output_type": "stream",
          "name": "stdout",
          "text": [
            "Please input ticker symbol nab.ax\n",
            "https://au.finance.yahoo.com/quote/nab.ax/profile?p=nab.ax\n"
          ]
        }
      ]
    },
    {
      "cell_type": "markdown",
      "metadata": {
        "id": "1Os8tPyxKloq"
      },
      "source": [
        "#Installing and Importing the required Packages\n",
        "\n",
        "##Kora\n",
        "This is a collection of tools to make programming on Google Colab easier.\n",
        "\n",
        "##Beautiful Soup:\n",
        " is a Python library that is used for web scraping purposes to pull the data out of HTML and XML files. It creates a parse tree from page source code that can be used to extract data in a hierarchical and more readable manner\n",
        "\n",
        "https://analyticsindiamag.com/beautiful-soup-webscraping-python/\n",
        " \n",
        "##Selenium\n",
        "Selenium is a tool to test your web application.\n",
        "\n",
        "https://www.guru99.com/selenium-python.html#2\n",
        "\n",
        "## Pandas\n",
        "pandas is a software library written for the Python programming language for data manipulation and analysis. In particular, it offers data structures and operations for manipulating numerical tables and time series.\n",
        "\n",
        "https://en.wikipedia.org/wiki/Pandas_(software)"
      ]
    },
    {
      "cell_type": "code",
      "metadata": {
        "id": "Tr9JKD2ek8rB",
        "colab": {
          "base_uri": "https://localhost:8080/"
        },
        "outputId": "87ef72bb-0df8-4229-8bae-676eca2e14c1"
      },
      "source": [
        "# I installed unique packages\n",
        "!pip install kora -q\n",
        "\n",
        "#load packages\n",
        "from bs4 import BeautifulSoup\n",
        "from kora.selenium import wd\n",
        "import pandas as pd"
      ],
      "execution_count": 8,
      "outputs": [
        {
          "output_type": "stream",
          "name": "stdout",
          "text": [
            "\u001b[?25l\r\u001b[K     |█████▊                          | 10 kB 27.3 MB/s eta 0:00:01\r\u001b[K     |███████████▍                    | 20 kB 33.8 MB/s eta 0:00:01\r\u001b[K     |█████████████████               | 30 kB 33.0 MB/s eta 0:00:01\r\u001b[K     |██████████████████████▊         | 40 kB 34.6 MB/s eta 0:00:01\r\u001b[K     |████████████████████████████▍   | 51 kB 36.9 MB/s eta 0:00:01\r\u001b[K     |████████████████████████████████| 57 kB 4.6 MB/s \n",
            "\u001b[?25h\u001b[?25l\r\u001b[K     |█████▉                          | 10 kB 25.9 MB/s eta 0:00:01\r\u001b[K     |███████████▊                    | 20 kB 36.6 MB/s eta 0:00:01\r\u001b[K     |█████████████████▌              | 30 kB 40.7 MB/s eta 0:00:01\r\u001b[K     |███████████████████████▍        | 40 kB 44.8 MB/s eta 0:00:01\r\u001b[K     |█████████████████████████████▎  | 51 kB 50.2 MB/s eta 0:00:01\r\u001b[K     |████████████████████████████████| 56 kB 3.7 MB/s \n",
            "\u001b[?25h"
          ]
        }
      ]
    },
    {
      "cell_type": "markdown",
      "metadata": {
        "id": "e7H5DODzmnh5"
      },
      "source": [
        "# Getting the Webpage\n",
        "\n",
        "Once I get the url I need to get the page source.\n",
        "\n",
        "Whats the page source: By clicking on the web page there will be a link as view page source. \n",
        "\n",
        "As follow:\n",
        "\n"
      ]
    },
    {
      "cell_type": "code",
      "metadata": {
        "id": "mbuQPFOelaIt"
      },
      "source": [
        "# get the page\n",
        "wd.get(url)\n",
        "soup = BeautifulSoup(wd.page_source, \"html.parser\")\n",
        "# the above commend means : I need to get the page Source and tell beautifulsoup I need to use \"html parser\"\n",
        "# Parser is a technical term to process the structure.\n",
        "soup"
      ],
      "execution_count": null,
      "outputs": []
    },
    {
      "cell_type": "code",
      "metadata": {
        "id": "psSXrWcZlxuB",
        "colab": {
          "base_uri": "https://localhost:8080/",
          "height": 617
        },
        "outputId": "0a62aaf7-32e2-4c7f-f5cf-4b11994f91a7"
      },
      "source": [
        "#will show the webpage\n",
        "wd"
      ],
      "execution_count": 10,
      "outputs": [
        {
          "output_type": "execute_result",
          "data": {
            "image/png": "[encoded data removed]",
            "text/plain": [
              "<selenium.webdriver.chrome.webdriver.WebDriver (session=\"71382fbcd73a0e44e2ee64f5211a9046\")>"
            ]
          },
          "metadata": {},
          "execution_count": 10
        }
      ]
    },
    {
      "cell_type": "markdown",
      "metadata": {
        "id": "J8lIC-5sQLjK"
      },
      "source": [
        "# How to copy a table\n",
        "I came over to the page, right click and inspect\n",
        "\n",
        "by moving on different things on codes it highlights different things on the page, I could see the table, body, the header or the data body \n",
        "there is a tag called \"tbody\" as the \"body\" and \"tr\" as the row\n",
        "\"td\" as table data\n",
        "\n",
        "standard processing of tables is exploring through the table , then the \"tbody\" tag then \"tr\" tag and then the \"td\" as table datas and extract the information as follow:"
      ]
    },
    {
      "cell_type": "code",
      "metadata": {
        "id": "Tn_UnkyvpRPd"
      },
      "source": [
        "table = soup.find('table')\n",
        "body = table.find('tbody')\n",
        "rows = body.find_all('tr')\n",
        "# For now process one row and do the hole rows later\n",
        "row = rows[0]\n",
        "\n",
        "cells = row.find_all('td')\n",
        "name = cells[0].text\n",
        "title = cells[1].text\n",
        "pay = cells[2].text"
      ],
      "execution_count": 11,
      "outputs": []
    },
    {
      "cell_type": "markdown",
      "metadata": {
        "id": "LTfygaL7bGbJ"
      },
      "source": [
        "# Here is the functions"
      ]
    },
    {
      "cell_type": "code",
      "metadata": {
        "id": "Ff3EWdfNsv0R"
      },
      "source": [
        "def get_first_3_cells(row):\n",
        "  cells = row.find_all('td')\n",
        "  name = cells[0].text\n",
        "  title = cells[1].text\n",
        "  pay = cells[2].text\n",
        "  # return a dictionary\n",
        "  return {'name': name, 'title': title, 'pay': pay}"
      ],
      "execution_count": 12,
      "outputs": []
    },
    {
      "cell_type": "code",
      "metadata": {
        "id": "JMRBMjzdWMx4"
      },
      "source": [
        "def get_rows(soup):\n",
        "  # Get the table!\n",
        "  table = soup.find('table')\n",
        "\n",
        "  # get to the row\n",
        "  body = table.find('tbody')\n",
        "  rows = body.find_all('tr')\n",
        "  return rows"
      ],
      "execution_count": 13,
      "outputs": []
    },
    {
      "cell_type": "markdown",
      "metadata": {
        "id": "cU7cnZbldXPI"
      },
      "source": [
        "# Extracting the pay element\n",
        "\n",
        "when I type a positive number in [ ] it starts from begining of the list and move along but if i put a negative number in it tells python to start from the end of the list and work backwords for example :\n",
        "\n",
        " In num_list = [3,2,1] if we run num_list[-1] it gives 1 which  means its  the last element in the list\n",
        "\n",
        "Considering this we will create the following function:\n",
        "\n",
        "\n"
      ]
    },
    {
      "cell_type": "code",
      "metadata": {
        "id": "8xAiLIMK-bD7"
      },
      "source": [
        "def get_salary(pay):  \n",
        "  last_char = pay[-1]\n",
        "  if last_char == 'M':\n",
        "    pay_as_num = float(pay[0:-1])\n",
        "    sal = pay_as_num * 1000000\n",
        "  elif last_char == 'k':\n",
        "    pay_as_num = float(pay[0:-1])\n",
        "    sal = pay_as_num * 1000\n",
        "  else: # Must be a N/A\n",
        "    sal = 0\n",
        "  return sal"
      ],
      "execution_count": 14,
      "outputs": []
    },
    {
      "cell_type": "markdown",
      "metadata": {
        "id": "2nBedqKyh24L"
      },
      "source": [
        "# Income tax calculation"
      ]
    },
    {
      "cell_type": "code",
      "metadata": {
        "id": "fGuh_71fhAn2"
      },
      "source": [
        "def calculate_tax(income):\n",
        "  ''' This function calculates the income tax based on ATO'''\n",
        "  if income <= 18200:\n",
        "    tax_payable = 0\n",
        "  elif 18200 < income <= 45000:\n",
        "    tax_payable = 0.19 * (income - 18200)\n",
        "  elif 45000 < income < 120000:\n",
        "    tax_payable = 5092 + 0.32 * (income - 45000)\n",
        "  elif 120001 < income < 180000:\n",
        "    tax_payable = 29467 + 0.37 * (income - 120000)\n",
        "  elif income > 180000:\n",
        "    tax_payable = 51667 + 0.45 * (income - 180000)\n",
        "\n",
        "\n",
        "  return tax_payable"
      ],
      "execution_count": 15,
      "outputs": []
    },
    {
      "cell_type": "markdown",
      "metadata": {
        "id": "AjOc40hmiMZ-"
      },
      "source": [
        "# Re organizing the functions"
      ]
    },
    {
      "cell_type": "code",
      "metadata": {
        "id": "5fcnKMC8iTJf"
      },
      "source": [
        "# Usually run of Google Coolab, so install unique packages\n",
        "!pip install kora -q\n",
        "\n",
        "#load packages\n",
        "from bs4 import BeautifulSoup\n",
        "from kora.selenium import wd\n",
        "import pandas as pd"
      ],
      "execution_count": 16,
      "outputs": []
    },
    {
      "cell_type": "code",
      "metadata": {
        "id": "VGFNwf_KipSU"
      },
      "source": [
        "def build_url():\n",
        "  ''' This function will build the URL of the profile page'''\n",
        "  ticker = input(\"Please type in a ticker symbol \")\n",
        "  url_pattern = 'https://au.finance.yahoo.com/quote/{}/profile?p={}'\n",
        "  result = url_pattern.format(ticker, ticker)\n",
        "  return result"
      ],
      "execution_count": 17,
      "outputs": []
    },
    {
      "cell_type": "code",
      "metadata": {
        "id": "GQW5CTAOivUS"
      },
      "source": [
        "def get_record(row):\n",
        "  ''' this function will extract the first 3 cells'''\n",
        "  cells = row.find_all('td')\n",
        "  name = cells[0].text\n",
        "  title =  cells[1].text\n",
        "  pay = cells[2].text\n",
        "  return {'name': name, 'title': title, 'pay': pay}"
      ],
      "execution_count": 18,
      "outputs": []
    },
    {
      "cell_type": "code",
      "metadata": {
        "id": "Ejd1rPO_iykH"
      },
      "source": [
        "def get_rows(soup):\n",
        "  '''this function explore the webpage and get the table rows'''\n",
        "  # Get the table!\n",
        "  table = soup.find('table')\n",
        "\n",
        "  # get to the row\n",
        "  body = table.find('tbody')\n",
        "  rows = body.find_all('tr')\n",
        "  return rows"
      ],
      "execution_count": 19,
      "outputs": []
    },
    {
      "cell_type": "code",
      "metadata": {
        "id": "SNNvfYC_i1IA"
      },
      "source": [
        "def calculate_tax(income):\n",
        "  ''' this function calculate the income tax based on ATO'''\n",
        "  if income <= 18200:\n",
        "    tax_payable = 0\n",
        "  elif 18200 < income <= 45000:\n",
        "    tax_payable = 0.19 * (income - 18200)\n",
        "  elif 45000 < income < 120000:\n",
        "    tax_payable = 5092 + 0.32 * (income - 45000)\n",
        "  elif 120001 < income < 180000:\n",
        "    tax_payable = 29467 + 0.37 * (income - 120000)\n",
        "  elif income > 180000:\n",
        "    tax_payable = 51667 + 0.45 * (income - 180000)\n",
        "\n",
        "\n",
        "  return tax_payable"
      ],
      "execution_count": 20,
      "outputs": []
    },
    {
      "cell_type": "code",
      "metadata": {
        "id": "8i9oLtiKi3Ta"
      },
      "source": [
        "def get_salary(pay):  \n",
        "  '''this function extract the pay element and calculate the pay'''\n",
        "  last_char = pay[-1]\n",
        "  if last_char == 'M':\n",
        "    pay_as_num = float(pay[0:-1])\n",
        "    sal = pay_as_num * 1000000\n",
        "  elif last_char == 'k':\n",
        "    pay_as_num = float(pay[0:-1])\n",
        "    sal = pay_as_num * 1000\n",
        "  else: # Must be a N/A\n",
        "    sal = 0\n",
        "  return sal"
      ],
      "execution_count": 21,
      "outputs": []
    },
    {
      "cell_type": "code",
      "metadata": {
        "colab": {
          "base_uri": "https://localhost:8080/",
          "height": 381
        },
        "id": "6zQyZ5_di6lL",
        "outputId": "13281f22-b903-4e2b-9267-0e8a2d158ca5"
      },
      "source": [
        "url = build_url()\n",
        "wd.get(url)\n",
        "soup = BeautifulSoup(wd.page_source,'html.parser')\n",
        "rows = get_rows(soup)\n",
        "\n",
        "# getting all the records\n",
        "records = []\n",
        "for row in rows:\n",
        "  rec = get_record(row)\n",
        "  records.append(rec)\n",
        "\n",
        "# adding the tax colum\n",
        "for rec in records:\n",
        "  sal = get_salary(rec['pay'])\n",
        "  rec['tax'] = calculate_tax(sal)\n",
        "\n",
        "# create a pandas dataframe (a data frame is easy to save as csv)\n",
        "exec_df = pd.DataFrame.from_records(records)\n",
        "exec_df"
      ],
      "execution_count": 22,
      "outputs": [
        {
          "name": "stdout",
          "output_type": "stream",
          "text": [
            "Please type in a ticker symbol nab.ax\n"
          ]
        },
        {
          "output_type": "execute_result",
          "data": {
            "text/html": [
              "<div>\n",
              "<style scoped>\n",
              "    .dataframe tbody tr th:only-of-type {\n",
              "        vertical-align: middle;\n",
              "    }\n",
              "\n",
              "    .dataframe tbody tr th {\n",
              "        vertical-align: top;\n",
              "    }\n",
              "\n",
              "    .dataframe thead th {\n",
              "        text-align: right;\n",
              "    }\n",
              "</style>\n",
              "<table border=\"1\" class=\"dataframe\">\n",
              "  <thead>\n",
              "    <tr style=\"text-align: right;\">\n",
              "      <th></th>\n",
              "      <th>name</th>\n",
              "      <th>title</th>\n",
              "      <th>pay</th>\n",
              "      <th>tax</th>\n",
              "    </tr>\n",
              "  </thead>\n",
              "  <tbody>\n",
              "    <tr>\n",
              "      <th>0</th>\n",
              "      <td>Mr. Ross Maxwell McEwan CBE, B.B.S.</td>\n",
              "      <td>Group CEO, MD &amp; Director</td>\n",
              "      <td>2.54M</td>\n",
              "      <td>1113667.0</td>\n",
              "    </tr>\n",
              "    <tr>\n",
              "      <th>1</th>\n",
              "      <td>Mr. Gary Andrew Lennon BEC, F.C.A., BEc (Hons)...</td>\n",
              "      <td>Group Chief Financial Officer</td>\n",
              "      <td>1.13M</td>\n",
              "      <td>479167.0</td>\n",
              "    </tr>\n",
              "    <tr>\n",
              "      <th>2</th>\n",
              "      <td>Mr. Patrick F. Wright</td>\n",
              "      <td>Group Exec. of Technology &amp; Enterprise Operations</td>\n",
              "      <td>1.72M</td>\n",
              "      <td>744667.0</td>\n",
              "    </tr>\n",
              "    <tr>\n",
              "      <th>3</th>\n",
              "      <td>Ms. Sharon J. Cook</td>\n",
              "      <td>Group Exec. of Legal &amp; Commercial Services</td>\n",
              "      <td>912.98k</td>\n",
              "      <td>381508.0</td>\n",
              "    </tr>\n",
              "    <tr>\n",
              "      <th>4</th>\n",
              "      <td>Ms. Susan  Ferrier</td>\n",
              "      <td>Group Exec. of People &amp; Culture</td>\n",
              "      <td>929.27k</td>\n",
              "      <td>388838.5</td>\n",
              "    </tr>\n",
              "    <tr>\n",
              "      <th>5</th>\n",
              "      <td>Ms. Angela  Mentis B.Bus</td>\n",
              "      <td>Group Chief Digital, Data &amp; Analytics Officer</td>\n",
              "      <td>1.62M</td>\n",
              "      <td>699667.0</td>\n",
              "    </tr>\n",
              "    <tr>\n",
              "      <th>6</th>\n",
              "      <td>Mr. Shaun  Dooley</td>\n",
              "      <td>Chief Risk Officer</td>\n",
              "      <td>1.05M</td>\n",
              "      <td>443167.0</td>\n",
              "    </tr>\n",
              "    <tr>\n",
              "      <th>7</th>\n",
              "      <td>Mr. Andrew  Irvine</td>\n",
              "      <td>Chief Exec. of Bus. Private Banking Division</td>\n",
              "      <td>333.27k</td>\n",
              "      <td>120638.5</td>\n",
              "    </tr>\n",
              "    <tr>\n",
              "      <th>8</th>\n",
              "      <td>Mr. Lesile D. Matheson</td>\n",
              "      <td>Group Chief Operating Officer</td>\n",
              "      <td>N/A</td>\n",
              "      <td>0.0</td>\n",
              "    </tr>\n",
              "    <tr>\n",
              "      <th>9</th>\n",
              "      <td>Ms. Sally  Mihell</td>\n",
              "      <td>Head of Investor Relations</td>\n",
              "      <td>N/A</td>\n",
              "      <td>0.0</td>\n",
              "    </tr>\n",
              "  </tbody>\n",
              "</table>\n",
              "</div>"
            ],
            "text/plain": [
              "                                                name  ...        tax\n",
              "0                Mr. Ross Maxwell McEwan CBE, B.B.S.  ...  1113667.0\n",
              "1  Mr. Gary Andrew Lennon BEC, F.C.A., BEc (Hons)...  ...   479167.0\n",
              "2                              Mr. Patrick F. Wright  ...   744667.0\n",
              "3                                 Ms. Sharon J. Cook  ...   381508.0\n",
              "4                                 Ms. Susan  Ferrier  ...   388838.5\n",
              "5                           Ms. Angela  Mentis B.Bus  ...   699667.0\n",
              "6                                  Mr. Shaun  Dooley  ...   443167.0\n",
              "7                                 Mr. Andrew  Irvine  ...   120638.5\n",
              "8                             Mr. Lesile D. Matheson  ...        0.0\n",
              "9                                  Ms. Sally  Mihell  ...        0.0\n",
              "\n",
              "[10 rows x 4 columns]"
            ]
          },
          "metadata": {},
          "execution_count": 22
        }
      ]
    },
    {
      "cell_type": "markdown",
      "metadata": {
        "id": "ZtVV-6AB9tCt"
      },
      "source": [
        "# Save as CSV\n",
        "I searched and found this way to convert the data frame into a CSV file\n",
        "\n",
        "https://datatofish.com/export-dataframe-to-csv/\n",
        "\n",
        "Once the content are created we save it the same as following pattern:\n",
        "\n",
        "r'C:\\Users\\Ashkan\\Desktop\\export_dataframe.csv'\n",
        "\n",
        "\n",
        "  The r character that you should place before the path name (to take care of any symbols within the path name, such as the backslash symbol). Otherwise, you’ll get the following error: (unicode error) ‘unicodeescape’ codec can’t decode bytes in position 2-3: truncated \\UXXXXXXXX escape\n",
        "\n",
        "\n",
        "  The Export data frame represents the file name to be created. You may type a different file name if you’d like\n",
        "\n",
        "\n",
        "   The CSV part represents the file type, which is ‘csv.’ You must add that portion anytime you want to export your DataFrame to a CSV file. Alternatively, you may use the file type of ‘txt’ if you want to export your DataFrame to a Text file\n"
      ]
    },
    {
      "cell_type": "code",
      "metadata": {
        "colab": {
          "base_uri": "https://localhost:8080/"
        },
        "id": "NXZxWOQ3i6qt",
        "outputId": "9f148c10-5eae-4407-fa7b-cc1e2ee57ef0"
      },
      "source": [
        "data = {'name': ['Mr. Ross Maxwell McEwan CBE B.B.S.','Mr. Gary Andrew Lennon BEC, F.C.A., BEc (Hons)','Mr. Patrick F. Wright','Ms. Sharon J. Cook','Ms. Susan Ferrier','Ms. Angela Mentis B.Bus','Mr. Shaun Dooley', 'Mr. Andrew Irvine',\t'Mr. Lesile D. Matheson','Ms. Sally Mihell'\t,],\n",
        "        'title': ['Group CEO, MD & Director','Group Chief Financial Officer','Group Exec. of Technology & Enterprise Operations' \t,'Group Exec. of Legal & Commercial Services','Group Exec. of People & Culture','Group Chief Digital, Data & Analytics Officer','Chief Risk Officer','Chief Exec. of Bus. Private Banking Division','Group Chief Operating Officer','Head of Investor Relations'],\n",
        "        'pay': ['2.54M', '1.13M', '1.72M', '912.98k', '929.27k', '1.62M', '1.05M', '333.27k', 'N/A', 'N/A'],\n",
        "        'tax': [1113667.0,479167.0,744667.0,381508.0,388838.5,699667.0,443167.0,120638.5, 0.0,0.0 ]\n",
        "        }\n",
        "\n",
        "df = pd.DataFrame(data, columns= ['name', 'title','pay', 'tax'])\n",
        "\n",
        "df.to_csv (r'C:\\Users\\Ashkan\\Desktop\\export_dataframe.csv', index = False, header=True)\n",
        "\n",
        "print (df)"
      ],
      "execution_count": 23,
      "outputs": [
        {
          "output_type": "stream",
          "name": "stdout",
          "text": [
            "                                             name  ...        tax\n",
            "0              Mr. Ross Maxwell McEwan CBE B.B.S.  ...  1113667.0\n",
            "1  Mr. Gary Andrew Lennon BEC, F.C.A., BEc (Hons)  ...   479167.0\n",
            "2                           Mr. Patrick F. Wright  ...   744667.0\n",
            "3                              Ms. Sharon J. Cook  ...   381508.0\n",
            "4                               Ms. Susan Ferrier  ...   388838.5\n",
            "5                         Ms. Angela Mentis B.Bus  ...   699667.0\n",
            "6                                Mr. Shaun Dooley  ...   443167.0\n",
            "7                               Mr. Andrew Irvine  ...   120638.5\n",
            "8                          Mr. Lesile D. Matheson  ...        0.0\n",
            "9                                Ms. Sally Mihell  ...        0.0\n",
            "\n",
            "[10 rows x 4 columns]\n"
          ]
        }
      ]
    },
    {
      "cell_type": "markdown",
      "metadata": {
        "id": "52UqrH38tzc8"
      },
      "source": [
        "#DataFrame to SQL\n",
        "\n",
        "https://datatofish.com/pandas-dataframe-to-sql/\n",
        "\n",
        "Step 1: Create a DataFrame\n",
        "\n",
        "Step 2: Create a Database:\n",
        "\n",
        "To start, I’ll need to import the sqlite3 package:\n",
        "\n",
        "then create the database and named it 'Assignment'\n",
        "\n",
        "finally Create the data table \n",
        "\n",
        "The ‘data’ table will be used to store the information from the DataFrame\n",
        "\n",
        "Step 3: Get from Pandas DataFrame to SQL\n",
        "\n",
        "I just re orgonized the steps in the final version  as follow:"
      ]
    },
    {
      "cell_type": "code",
      "metadata": {
        "colab": {
          "base_uri": "https://localhost:8080/"
        },
        "id": "p_ZULbJju5WA",
        "outputId": "0cbb714b-967d-4d1b-805d-27dc2ea8fdd2"
      },
      "source": [
        "#Import the package\n",
        "import sqlite3\n",
        "\n",
        "# Create the database\n",
        "conn = sqlite3.connect('Assignment')\n",
        "c = conn.cursor()\n",
        "\n",
        "# Create data table\n",
        "c.execute('CREATE TABLE IF NOT EXISTS data (name text, title text, pay number, tax number)')\n",
        "conn.commit()\n",
        "\n",
        "# Create a data frame\n",
        "data = {'name': ['Mr. Ross Maxwell McEwan CBE B.B.S.','Mr. Gary Andrew Lennon BEC, F.C.A., BEc (Hons)','Mr. Patrick F. Wright','Ms. Sharon J. Cook','Ms. Susan Ferrier','Ms. Angela Mentis B.Bus','Mr. Shaun Dooley', 'Mr. Andrew Irvine',\t'Mr. Lesile D. Matheson','Ms. Sally Mihell'\t,],\n",
        "        'title': ['Group CEO, MD & Director','Group Chief Financial Officer','Group Exec. of Technology & Enterprise Operations' \t,'Group Exec. of Legal & Commercial Services','Group Exec. of People & Culture','Group Chief Digital, Data & Analytics Officer','Chief Risk Officer','Chief Exec. of Bus. Private Banking Division','Group Chief Operating Officer','Head of Investor Relations'],\n",
        "        'pay': ['2.54M', '1.13M', '1.72M', '912.98k', '929.27k', '1.62M', '1.05M', '333.27k', 'N/A', 'N/A'],\n",
        "        'tax': [1113667.0,479167.0,744667.0,381508.0,388838.5,699667.0,443167.0,120638.5, 0.0,0.0 ]\n",
        "        }\n",
        "\n",
        "#Get from Pandas DataFrame to SQL\n",
        "df = pd.DataFrame(data, columns= ['name', 'title','pay', 'tax'])\n",
        "df.to_sql('data', conn, if_exists='replace', index = False)\n",
        "\n",
        "c.execute('''  \n",
        "\t\tSELECT * FROM data\t\n",
        "          ''')\n",
        "\n",
        "df = pd.DataFrame(c.fetchall(), columns=['name','title', 'pay', 'tax'])    \n",
        "print (df)  "
      ],
      "execution_count": 33,
      "outputs": [
        {
          "output_type": "stream",
          "name": "stdout",
          "text": [
            "                                             name  ...        tax\n",
            "0              Mr. Ross Maxwell McEwan CBE B.B.S.  ...  1113667.0\n",
            "1  Mr. Gary Andrew Lennon BEC, F.C.A., BEc (Hons)  ...   479167.0\n",
            "2                           Mr. Patrick F. Wright  ...   744667.0\n",
            "3                              Ms. Sharon J. Cook  ...   381508.0\n",
            "4                               Ms. Susan Ferrier  ...   388838.5\n",
            "5                         Ms. Angela Mentis B.Bus  ...   699667.0\n",
            "6                                Mr. Shaun Dooley  ...   443167.0\n",
            "7                               Mr. Andrew Irvine  ...   120638.5\n",
            "8                          Mr. Lesile D. Matheson  ...        0.0\n",
            "9                                Ms. Sally Mihell  ...        0.0\n",
            "\n",
            "[10 rows x 4 columns]\n"
          ]
        }
      ]
    },
    {
      "cell_type": "markdown",
      "metadata": {
        "id": "QA-LUyu1ZiDf"
      },
      "source": [
        "I knew t"
      ]
    }
  ]
}